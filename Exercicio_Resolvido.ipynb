{
 "cells": [
  {
   "cell_type": "code",
   "execution_count": 9,
   "id": "f8e0fea7",
   "metadata": {},
   "outputs": [],
   "source": [
    "from time import sleep\n",
    "import pandas as pd\n",
    "from selenium import webdriver \n",
    "from selenium.webdriver.common.by import By"
   ]
  },
  {
   "cell_type": "code",
   "execution_count": 10,
   "id": "c5c50825",
   "metadata": {},
   "outputs": [],
   "source": [
    "navegador = webdriver.Chrome()"
   ]
  },
  {
   "cell_type": "code",
   "execution_count": 11,
   "id": "345d7ca9",
   "metadata": {},
   "outputs": [],
   "source": [
    "def url(nome, numero):\n",
    "    return f'https://www.ibovx.com.br/historico-papeis-bovespa.aspx?papel={nome}&qtdpregoes={numero}'"
   ]
  },
  {
   "cell_type": "code",
   "execution_count": 12,
   "id": "6808a6cf",
   "metadata": {},
   "outputs": [],
   "source": [
    "acoes = ['PETR3','ABEV3','VALE3']"
   ]
  },
  {
   "cell_type": "code",
   "execution_count": 13,
   "id": "5246b661",
   "metadata": {},
   "outputs": [
    {
     "ename": "WebDriverException",
     "evalue": "Message: unknown error: cannot determine loading status\nfrom unknown error: unexpected command response\n  (Session info: chrome=103.0.5060.66)\nStacktrace:\nBacktrace:\n\tOrdinal0 [0x003A6463+2188387]\n\tOrdinal0 [0x0033E461+1762401]\n\tOrdinal0 [0x00253D78+802168]\n\tOrdinal0 [0x00247210+750096]\n\tOrdinal0 [0x0024675A+747354]\n\tOrdinal0 [0x00245D3F+744767]\n\tOrdinal0 [0x00244C28+740392]\n\tOrdinal0 [0x00245228+741928]\n\tOrdinal0 [0x0024EF2F+782127]\n\tOrdinal0 [0x00259FBB+827323]\n\tOrdinal0 [0x0025D310+840464]\n\tOrdinal0 [0x002454F6+742646]\n\tOrdinal0 [0x00259BF3+826355]\n\tOrdinal0 [0x002ACF6D+1167213]\n\tOrdinal0 [0x0029C5F6+1099254]\n\tOrdinal0 [0x00276BE0+945120]\n\tOrdinal0 [0x00277AD6+948950]\n\tGetHandleVerifier [0x006471F2+2712546]\n\tGetHandleVerifier [0x0063886D+2652765]\n\tGetHandleVerifier [0x0043002A+520730]\n\tGetHandleVerifier [0x0042EE06+516086]\n\tOrdinal0 [0x0034468B+1787531]\n\tOrdinal0 [0x00348E88+1805960]\n\tOrdinal0 [0x00348F75+1806197]\n\tOrdinal0 [0x00351DF1+1842673]\n\tBaseThreadInitThunk [0x76FCFA29+25]\n\tRtlGetAppContainerNamedObjectPath [0x77B77A9E+286]\n\tRtlGetAppContainerNamedObjectPath [0x77B77A6E+238]\n",
     "output_type": "error",
     "traceback": [
      "\u001b[1;31m---------------------------------------------------------------------------\u001b[0m",
      "\u001b[1;31mWebDriverException\u001b[0m                        Traceback (most recent call last)",
      "Input \u001b[1;32mIn [13]\u001b[0m, in \u001b[0;36m<cell line: 4>\u001b[1;34m()\u001b[0m\n\u001b[0;32m      2\u001b[0m numero \u001b[38;5;241m=\u001b[39m \u001b[38;5;241m1000\u001b[39m\n\u001b[0;32m      4\u001b[0m \u001b[38;5;28;01mfor\u001b[39;00m i \u001b[38;5;129;01min\u001b[39;00m acoes:\n\u001b[1;32m----> 5\u001b[0m     \u001b[43mnavegador\u001b[49m\u001b[38;5;241;43m.\u001b[39;49m\u001b[43mget\u001b[49m\u001b[43m(\u001b[49m\u001b[43murl\u001b[49m\u001b[43m(\u001b[49m\u001b[43mi\u001b[49m\u001b[43m,\u001b[49m\u001b[43m \u001b[49m\u001b[43mnumero\u001b[49m\u001b[43m)\u001b[49m\u001b[43m)\u001b[49m\n\u001b[0;32m      6\u001b[0m     sleep(\u001b[38;5;241m2\u001b[39m)\n\u001b[0;32m      7\u001b[0m     dados\u001b[38;5;241m.\u001b[39mappend(navegador\u001b[38;5;241m.\u001b[39mfind_element(By\u001b[38;5;241m.\u001b[39mXPATH, \u001b[38;5;124m'\u001b[39m\u001b[38;5;124m//*[@id=\u001b[39m\u001b[38;5;124m\"\u001b[39m\u001b[38;5;124midConteudo\u001b[39m\u001b[38;5;124m\"\u001b[39m\u001b[38;5;124m]/div/div[8]/table/tbody\u001b[39m\u001b[38;5;124m'\u001b[39m)\u001b[38;5;241m.\u001b[39mget_attribute(\u001b[38;5;124m'\u001b[39m\u001b[38;5;124minnerText\u001b[39m\u001b[38;5;124m'\u001b[39m)\u001b[38;5;241m.\u001b[39msplit(\u001b[38;5;124m'\u001b[39m\u001b[38;5;130;01m\\n\u001b[39;00m\u001b[38;5;124m'\u001b[39m))\n",
      "File \u001b[1;32mD:\\anaconda\\lib\\site-packages\\selenium\\webdriver\\remote\\webdriver.py:447\u001b[0m, in \u001b[0;36mWebDriver.get\u001b[1;34m(self, url)\u001b[0m\n\u001b[0;32m    443\u001b[0m \u001b[38;5;28;01mdef\u001b[39;00m \u001b[38;5;21mget\u001b[39m(\u001b[38;5;28mself\u001b[39m, url: \u001b[38;5;28mstr\u001b[39m) \u001b[38;5;241m-\u001b[39m\u001b[38;5;241m>\u001b[39m \u001b[38;5;28;01mNone\u001b[39;00m:\n\u001b[0;32m    444\u001b[0m     \u001b[38;5;124;03m\"\"\"\u001b[39;00m\n\u001b[0;32m    445\u001b[0m \u001b[38;5;124;03m    Loads a web page in the current browser session.\u001b[39;00m\n\u001b[0;32m    446\u001b[0m \u001b[38;5;124;03m    \"\"\"\u001b[39;00m\n\u001b[1;32m--> 447\u001b[0m     \u001b[38;5;28;43mself\u001b[39;49m\u001b[38;5;241;43m.\u001b[39;49m\u001b[43mexecute\u001b[49m\u001b[43m(\u001b[49m\u001b[43mCommand\u001b[49m\u001b[38;5;241;43m.\u001b[39;49m\u001b[43mGET\u001b[49m\u001b[43m,\u001b[49m\u001b[43m \u001b[49m\u001b[43m{\u001b[49m\u001b[38;5;124;43m'\u001b[39;49m\u001b[38;5;124;43murl\u001b[39;49m\u001b[38;5;124;43m'\u001b[39;49m\u001b[43m:\u001b[49m\u001b[43m \u001b[49m\u001b[43murl\u001b[49m\u001b[43m}\u001b[49m\u001b[43m)\u001b[49m\n",
      "File \u001b[1;32mD:\\anaconda\\lib\\site-packages\\selenium\\webdriver\\remote\\webdriver.py:435\u001b[0m, in \u001b[0;36mWebDriver.execute\u001b[1;34m(self, driver_command, params)\u001b[0m\n\u001b[0;32m    433\u001b[0m response \u001b[38;5;241m=\u001b[39m \u001b[38;5;28mself\u001b[39m\u001b[38;5;241m.\u001b[39mcommand_executor\u001b[38;5;241m.\u001b[39mexecute(driver_command, params)\n\u001b[0;32m    434\u001b[0m \u001b[38;5;28;01mif\u001b[39;00m response:\n\u001b[1;32m--> 435\u001b[0m     \u001b[38;5;28;43mself\u001b[39;49m\u001b[38;5;241;43m.\u001b[39;49m\u001b[43merror_handler\u001b[49m\u001b[38;5;241;43m.\u001b[39;49m\u001b[43mcheck_response\u001b[49m\u001b[43m(\u001b[49m\u001b[43mresponse\u001b[49m\u001b[43m)\u001b[49m\n\u001b[0;32m    436\u001b[0m     response[\u001b[38;5;124m'\u001b[39m\u001b[38;5;124mvalue\u001b[39m\u001b[38;5;124m'\u001b[39m] \u001b[38;5;241m=\u001b[39m \u001b[38;5;28mself\u001b[39m\u001b[38;5;241m.\u001b[39m_unwrap_value(\n\u001b[0;32m    437\u001b[0m         response\u001b[38;5;241m.\u001b[39mget(\u001b[38;5;124m'\u001b[39m\u001b[38;5;124mvalue\u001b[39m\u001b[38;5;124m'\u001b[39m, \u001b[38;5;28;01mNone\u001b[39;00m))\n\u001b[0;32m    438\u001b[0m     \u001b[38;5;28;01mreturn\u001b[39;00m response\n",
      "File \u001b[1;32mD:\\anaconda\\lib\\site-packages\\selenium\\webdriver\\remote\\errorhandler.py:247\u001b[0m, in \u001b[0;36mErrorHandler.check_response\u001b[1;34m(self, response)\u001b[0m\n\u001b[0;32m    245\u001b[0m         alert_text \u001b[38;5;241m=\u001b[39m value[\u001b[38;5;124m'\u001b[39m\u001b[38;5;124malert\u001b[39m\u001b[38;5;124m'\u001b[39m]\u001b[38;5;241m.\u001b[39mget(\u001b[38;5;124m'\u001b[39m\u001b[38;5;124mtext\u001b[39m\u001b[38;5;124m'\u001b[39m)\n\u001b[0;32m    246\u001b[0m     \u001b[38;5;28;01mraise\u001b[39;00m exception_class(message, screen, stacktrace, alert_text)  \u001b[38;5;66;03m# type: ignore[call-arg]  # mypy is not smart enough here\u001b[39;00m\n\u001b[1;32m--> 247\u001b[0m \u001b[38;5;28;01mraise\u001b[39;00m exception_class(message, screen, stacktrace)\n",
      "\u001b[1;31mWebDriverException\u001b[0m: Message: unknown error: cannot determine loading status\nfrom unknown error: unexpected command response\n  (Session info: chrome=103.0.5060.66)\nStacktrace:\nBacktrace:\n\tOrdinal0 [0x003A6463+2188387]\n\tOrdinal0 [0x0033E461+1762401]\n\tOrdinal0 [0x00253D78+802168]\n\tOrdinal0 [0x00247210+750096]\n\tOrdinal0 [0x0024675A+747354]\n\tOrdinal0 [0x00245D3F+744767]\n\tOrdinal0 [0x00244C28+740392]\n\tOrdinal0 [0x00245228+741928]\n\tOrdinal0 [0x0024EF2F+782127]\n\tOrdinal0 [0x00259FBB+827323]\n\tOrdinal0 [0x0025D310+840464]\n\tOrdinal0 [0x002454F6+742646]\n\tOrdinal0 [0x00259BF3+826355]\n\tOrdinal0 [0x002ACF6D+1167213]\n\tOrdinal0 [0x0029C5F6+1099254]\n\tOrdinal0 [0x00276BE0+945120]\n\tOrdinal0 [0x00277AD6+948950]\n\tGetHandleVerifier [0x006471F2+2712546]\n\tGetHandleVerifier [0x0063886D+2652765]\n\tGetHandleVerifier [0x0043002A+520730]\n\tGetHandleVerifier [0x0042EE06+516086]\n\tOrdinal0 [0x0034468B+1787531]\n\tOrdinal0 [0x00348E88+1805960]\n\tOrdinal0 [0x00348F75+1806197]\n\tOrdinal0 [0x00351DF1+1842673]\n\tBaseThreadInitThunk [0x76FCFA29+25]\n\tRtlGetAppContainerNamedObjectPath [0x77B77A9E+286]\n\tRtlGetAppContainerNamedObjectPath [0x77B77A6E+238]\n"
     ]
    }
   ],
   "source": [
    "dados = []\n",
    "numero = 1000\n",
    "\n",
    "for i in acoes:\n",
    "    navegador.get(url(i, numero))\n",
    "    sleep(2)\n",
    "    dados.append(navegador.find_element(By.XPATH, '//*[@id=\"idConteudo\"]/div/div[8]/table/tbody').get_attribute('innerText').split('\\n'))"
   ]
  },
  {
   "cell_type": "code",
   "execution_count": null,
   "id": "8e507183",
   "metadata": {},
   "outputs": [],
   "source": [
    "dados"
   ]
  },
  {
   "cell_type": "code",
   "execution_count": null,
   "id": "5ff21784",
   "metadata": {},
   "outputs": [],
   "source": [
    "header = []\n",
    "for i in range(len(dados)):\n",
    "    header = dados[i].pop(0).split('\\t')\n",
    "header.insert(0,'Nome')"
   ]
  },
  {
   "cell_type": "code",
   "execution_count": null,
   "id": "019c5bb3",
   "metadata": {},
   "outputs": [],
   "source": [
    "valores = []\n",
    "\n",
    "for e,i in enumerate(dados):\n",
    "    for j in i:\n",
    "        aux = j.split('\\t')[:]\n",
    "        if(aux[0] != ''):\n",
    "            aux.insert(0,acoes[e])\n",
    "            valores.append(aux)\n",
    "valores"
   ]
  },
  {
   "cell_type": "code",
   "execution_count": null,
   "id": "05524c8f",
   "metadata": {},
   "outputs": [],
   "source": [
    "df = pd.DataFrame(valores,columns=header)\n",
    "df.to_csv(\"todos_valores.csv\",index_label='Indice')"
   ]
  }
 ],
 "metadata": {
  "kernelspec": {
   "display_name": "Python 3 (ipykernel)",
   "language": "python",
   "name": "python3"
  },
  "language_info": {
   "codemirror_mode": {
    "name": "ipython",
    "version": 3
   },
   "file_extension": ".py",
   "mimetype": "text/x-python",
   "name": "python",
   "nbconvert_exporter": "python",
   "pygments_lexer": "ipython3",
   "version": "3.9.12"
  }
 },
 "nbformat": 4,
 "nbformat_minor": 5
}
